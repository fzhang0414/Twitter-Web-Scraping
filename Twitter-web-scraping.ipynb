{
 "cells": [
  {
   "cell_type": "code",
   "execution_count": 1,
   "metadata": {},
   "outputs": [],
   "source": [
    "import tweepy\n",
    "import pandas as pd\n",
    "import time"
   ]
  },
  {
   "cell_type": "code",
   "execution_count": 2,
   "metadata": {},
   "outputs": [],
   "source": [
    "# Fill in twitter Key & secret\n",
    "consumer_key = '********'\n",
    "consumer_secret = '*********'\n",
    "access_token = '********-*********''\n",
    "access_token_secret = '*********'\n",
    " \n",
    "# Submit Key & secret\n",
    "auth = tweepy.OAuthHandler(consumer_key, consumer_secret)\n",
    "auth.set_access_token(access_token, access_token_secret)\n",
    "\n",
    "api = tweepy.API(auth)"
   ]
  },
  {
   "cell_type": "markdown",
   "metadata": {},
   "source": [
    "Reddit_groups = ['depression', 'anxiety', 'OCD', 'socialanxiety', 'panicdisorder']"
   ]
  },
  {
   "cell_type": "markdown",
   "metadata": {},
   "source": [
    "## Keywords"
   ]
  },
  {
   "cell_type": "code",
   "execution_count": 3,
   "metadata": {},
   "outputs": [],
   "source": [
    "# this data will provide you the user id who ever post or retweeted a post which contains the keywords\n",
    "keywords=['depression', 'anxiety', 'OCD', 'socialanxiety', 'panicdisorder']\n",
    "list=[]\n",
    "for word in keywords:\n",
    "    for tweet in tweepy.Cursor(api.search,q=word).items(10):\n",
    "        list.append([time.strftime(\"%Y-%m-%d\", time.localtime()), word,'@'+tweet.user.screen_name])\n",
    "        data=pd.DataFrame(data=list,columns=['Date','Type','UserID'])\n",
    "data.head()"
   ]
  },
  {
   "cell_type": "markdown",
   "metadata": {},
   "source": [
    "## Hashtags"
   ]
  },
  {
   "cell_type": "code",
   "execution_count": null,
   "metadata": {},
   "outputs": [],
   "source": [
    "# Twitter only allow you to send a request every 15 min, So, I seperated 5 hashtages. \n",
    "# You can also use AWS to do time clock and run the code automatically\n",
    "dep_list=[]\n",
    "for tweet in tweepy.Cursor(api.search,q='#depression',count=10,since='2020-03-23').items():\n",
    "    dep_list.append([word,tweet.created_at,'@'+tweet.user.screen_name, tweet.text])"
   ]
  },
  {
   "cell_type": "code",
   "execution_count": null,
   "metadata": {},
   "outputs": [],
   "source": [
    "anxiety_list=[]\n",
    "for tweet in tweepy.Cursor(api.search,q='#anxiety',count=10,since='2020-03-23').items():\n",
    "    anxiety_list.append([word,tweet.created_at,'@'+tweet.user.screen_name, tweet.text])"
   ]
  },
  {
   "cell_type": "code",
   "execution_count": null,
   "metadata": {},
   "outputs": [],
   "source": [
    "ocd_list=[]\n",
    "for tweet in tweepy.Cursor(api.search,q='#OCD',count=10,since='2020-03-23').items():\n",
    "    ocd_list.append([word,tweet.created_at,'@'+tweet.user.screen_name, tweet.text])"
   ]
  },
  {
   "cell_type": "code",
   "execution_count": null,
   "metadata": {},
   "outputs": [],
   "source": [
    "socialanxiety_list=[]\n",
    "for tweet in tweepy.Cursor(api.search,q='#socialanxiety',count=10,since='2020-03-23').items():\n",
    "    socialanxiety_list.append([word,tweet.created_at,'@'+tweet.user.screen_name, tweet.text])"
   ]
  },
  {
   "cell_type": "code",
   "execution_count": null,
   "metadata": {},
   "outputs": [],
   "source": [
    "panic_list=[]\n",
    "for tweet in tweepy.Cursor(api.search,q='#panicdisorder',count=10,since='2020-03-23').items():\n",
    "    panic_list.append([word,tweet.created_at,'@'+tweet.user.screen_name, tweet.text])"
   ]
  },
  {
   "cell_type": "code",
   "execution_count": 18,
   "metadata": {},
   "outputs": [],
   "source": [
    "totallist=[]\n",
    "totallist.extend(dep_list)\n",
    "totallist.extend(anxiety_list)\n",
    "totallist.extend(ocd_list)\n",
    "totallist.extend(socialanxiety_list)\n",
    "totallist.extend(panic_list)\n",
    "data_hashtag=pd.DataFrame(data=totallist,\n",
    "                          columns=['Hashtag','Post Date','Post ID','Posts&links'])\n",
    "data_hashtag.to_csv('data_hashtag.csv')"
   ]
  }
 ],
 "metadata": {
  "kernelspec": {
   "display_name": "Python 3",
   "language": "python",
   "name": "python3"
  },
  "language_info": {
   "codemirror_mode": {
    "name": "ipython",
    "version": 3
   },
   "file_extension": ".py",
   "mimetype": "text/x-python",
   "name": "python",
   "nbconvert_exporter": "python",
   "pygments_lexer": "ipython3",
   "version": "3.7.3"
  }
 },
 "nbformat": 4,
 "nbformat_minor": 2
}
